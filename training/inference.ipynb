{
  "nbformat": 4,
  "nbformat_minor": 0,
  "metadata": {
    "colab": {
      "provenance": []
    },
    "kernelspec": {
      "name": "python3",
      "display_name": "Python 3"
    },
    "language_info": {
      "name": "python"
    }
  },
  "cells": [
    {
      "cell_type": "code",
      "execution_count": 19,
      "metadata": {
        "colab": {
          "base_uri": "https://localhost:8080/"
        },
        "id": "VPj3Sumcm4uR",
        "outputId": "84c864f2-e80e-4648-8cd5-02e55b943998"
      },
      "outputs": [
        {
          "output_type": "stream",
          "name": "stdout",
          "text": [
            "Probabilitas Sentimen: [[1.81794354e-06 2.46388558e-03 9.97534296e-01]]\n",
            "Sentimen kalimat baru adalah POSITIF.\n"
          ]
        }
      ],
      "source": [
        "import joblib\n",
        "import pandas as pd\n",
        "\n",
        "# Memuat model terbaik\n",
        "best_model = joblib.load('/content/best_logistic_model.pkl')\n",
        "\n",
        "# Memuat TfidfVectorizer yang sama (harus disimpan sebelumnya)\n",
        "tfidf = joblib.load('/content/tfidf.pkl')  # Pastikan Anda menyimpan TfidfVectorizer sebelumnya\n",
        "\n",
        "# Contoh data input yang ingin diprediksi\n",
        "data_input = [\n",
        "    \"Saya sangat senang dengan produk ini!\"\n",
        "]\n",
        "\n",
        "# Ekstraksi fitur dari data input\n",
        "X_input_tfidf = tfidf.transform(data_input)  # Gunakan transform, bukan fit_transform\n",
        "\n",
        "# Melakukan prediksi\n",
        "predictions = best_model.predict(X_input_tfidf.toarray())\n",
        "\n",
        "# Memperoleh probabilitas prediksi untuk setiap kelas\n",
        "prediksi_probabilitas = best_model.predict_proba(X_input_tfidf.toarray())\n",
        "print(\"Probabilitas Sentimen:\", prediksi_probabilitas)\n",
        "\n",
        "# Menentukan sentimen berdasarkan probabilitas dan threshold\n",
        "threshold_netral = 0.5  # Threshold untuk menentukan sentimen netral\n",
        "label = [\"NEGATIF\", \"NETRAL\", \"POSITIF\"]\n",
        "\n",
        "# Logika untuk menentukan sentimen\n",
        "if prediksi_probabilitas[0][1] > threshold_netral:\n",
        "    print(\"Sentimen kalimat baru adalah NETRAL.\")\n",
        "elif prediksi_probabilitas[0][2] > prediksi_probabilitas[0][0]:  # Jika positif > negatif\n",
        "    print(\"Sentimen kalimat baru adalah POSITIF.\")\n",
        "else:\n",
        "    print(\"Sentimen kalimat baru adalah NEGATIF.\")"
      ]
    }
  ]
}